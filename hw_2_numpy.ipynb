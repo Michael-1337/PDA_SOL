{
  "cells": [
    {
      "cell_type": "markdown",
      "metadata": {
        "id": "view-in-github",
        "colab_type": "text"
      },
      "source": [
        "<a href=\"https://colab.research.google.com/github/Michael-1337/PDA_SOL/blob/main/hw_2_numpy.ipynb\" target=\"_parent\"><img src=\"https://colab.research.google.com/assets/colab-badge.svg\" alt=\"Open In Colab\"/></a>"
      ]
    },
    {
      "cell_type": "markdown",
      "metadata": {
        "id": "z6WChic2hv7h"
      },
      "source": [
        "# Самостоятельная работа 2. Numpy\n",
        "\n",
        "1. Скачайте этот ноутбук к себе.\n",
        "2. Заполните пропущенные ячейки, отвечая на заданные вопросы. Там должен быть код! (если не сказано обратное)\n",
        "3. Сохраните результат в своём гитхаб репозитории.\n",
        "\n",
        "#### Полезная литература\n",
        "\n",
        "- http://www.numpy.org/\n",
        "- https://jakevdp.github.io/PythonDataScienceHandbook/02.00-introduction-to-numpy.html\n",
        "- https://docs.scipy.org/doc/numpy/user/quickstart.html"
      ]
    },
    {
      "cell_type": "markdown",
      "metadata": {
        "id": "Mn2cyJmihv7k"
      },
      "source": [
        "1) Импортировать numpy и написать версию"
      ]
    },
    {
      "cell_type": "code",
      "execution_count": null,
      "metadata": {
        "colab": {
          "base_uri": "https://localhost:8080/",
          "height": 35
        },
        "id": "62jTbj8vhv7l",
        "outputId": "28df249d-fb5d-4c7e-f29d-48bbba456b60"
      },
      "outputs": [
        {
          "output_type": "execute_result",
          "data": {
            "text/plain": [
              "'1.23.5'"
            ],
            "application/vnd.google.colaboratory.intrinsic+json": {
              "type": "string"
            }
          },
          "metadata": {},
          "execution_count": 2
        }
      ],
      "source": [
        "import numpy as np\n",
        "np.__version__"
      ]
    },
    {
      "cell_type": "markdown",
      "metadata": {
        "id": "U8iXKg6bhv7l"
      },
      "source": [
        "2) Создать нулевой вектор размера 10"
      ]
    },
    {
      "cell_type": "code",
      "execution_count": null,
      "metadata": {
        "colab": {
          "base_uri": "https://localhost:8080/"
        },
        "id": "sNxIujLShv7m",
        "outputId": "a1f29083-f03d-4fe6-ae16-119283144632"
      },
      "outputs": [
        {
          "output_type": "execute_result",
          "data": {
            "text/plain": [
              "array([0, 0, 0, 0, 0, 0, 0, 0, 0, 0])"
            ]
          },
          "metadata": {},
          "execution_count": 9
        }
      ],
      "source": [
        "np.zeros(10, dtype=int)"
      ]
    },
    {
      "cell_type": "markdown",
      "metadata": {
        "id": "8tQHkiTMhv7m"
      },
      "source": [
        "3) Создать вектор заполненный 7-ами размера 7"
      ]
    },
    {
      "cell_type": "code",
      "execution_count": null,
      "metadata": {
        "colab": {
          "base_uri": "https://localhost:8080/"
        },
        "id": "Ym_fCxkThv7m",
        "outputId": "91fec3ba-8b0f-4c3d-9670-3c0c69d08d31"
      },
      "outputs": [
        {
          "output_type": "execute_result",
          "data": {
            "text/plain": [
              "array([7, 7, 7, 7, 7, 7, 7])"
            ]
          },
          "metadata": {},
          "execution_count": 4
        }
      ],
      "source": [
        "np.full(7, 7)"
      ]
    },
    {
      "cell_type": "markdown",
      "metadata": {
        "id": "tnPCl_Xthv7n"
      },
      "source": [
        "4) Создать вектор заполненный четными числами от 10 до 100"
      ]
    },
    {
      "cell_type": "code",
      "execution_count": null,
      "metadata": {
        "colab": {
          "base_uri": "https://localhost:8080/"
        },
        "id": "QCnk-WNjhv7n",
        "outputId": "a437ebd4-bb4b-46e4-ddbf-ce0e91d9e0b6"
      },
      "outputs": [
        {
          "output_type": "execute_result",
          "data": {
            "text/plain": [
              "array([ 10,  12,  14,  16,  18,  20,  22,  24,  26,  28,  30,  32,  34,\n",
              "        36,  38,  40,  42,  44,  46,  48,  50,  52,  54,  56,  58,  60,\n",
              "        62,  64,  66,  68,  70,  72,  74,  76,  78,  80,  82,  84,  86,\n",
              "        88,  90,  92,  94,  96,  98, 100])"
            ]
          },
          "metadata": {},
          "execution_count": 5
        }
      ],
      "source": [
        "np.arange(10, 101, 2)"
      ]
    },
    {
      "cell_type": "markdown",
      "metadata": {
        "id": "7BDXObX6hv7o"
      },
      "source": [
        "5) Создать массив случайных чисел и развернуть его задом наперёд"
      ]
    },
    {
      "cell_type": "code",
      "execution_count": null,
      "metadata": {
        "colab": {
          "base_uri": "https://localhost:8080/"
        },
        "id": "XC7XgGHjhv7o",
        "outputId": "d85ec815-f4a0-4f47-cea4-df6858b76922"
      },
      "outputs": [
        {
          "output_type": "execute_result",
          "data": {
            "text/plain": [
              "array([[-1.32484951,  0.47748848,  0.72031063],\n",
              "       [ 0.5415012 ,  0.93292924,  0.4683731 ],\n",
              "       [ 1.56672809, -0.40222683,  2.0789356 ]])"
            ]
          },
          "metadata": {},
          "execution_count": 11
        }
      ],
      "source": [
        "np.random.randn(3, 3)[::-1]"
      ]
    },
    {
      "cell_type": "markdown",
      "metadata": {
        "id": "ABlDvmBZhv7o"
      },
      "source": [
        "6) Создать двумерную матрицу размера 3 на 3, заполненную числами от 0 до 9"
      ]
    },
    {
      "cell_type": "code",
      "execution_count": null,
      "metadata": {
        "colab": {
          "base_uri": "https://localhost:8080/"
        },
        "id": "7euDPRfshv7o",
        "outputId": "3188b70b-ecc2-4154-b115-e5854a8ec7bb"
      },
      "outputs": [
        {
          "output_type": "execute_result",
          "data": {
            "text/plain": [
              "array([[0, 1, 2],\n",
              "       [3, 4, 5],\n",
              "       [6, 7, 8]])"
            ]
          },
          "metadata": {},
          "execution_count": 2
        }
      ],
      "source": [
        "np.arange(9).reshape((3, 3))"
      ]
    },
    {
      "cell_type": "markdown",
      "metadata": {
        "id": "1Thj1n_dhv7o"
      },
      "source": [
        "7) Создать матрицу размера 4 на 4 с единицами на диагонали смещеной на один наверх."
      ]
    },
    {
      "cell_type": "code",
      "execution_count": null,
      "metadata": {
        "colab": {
          "base_uri": "https://localhost:8080/"
        },
        "id": "fgDJPvNkhv7p",
        "outputId": "34954b59-d54c-4a9c-c407-43935e6f0ffe"
      },
      "outputs": [
        {
          "output_type": "execute_result",
          "data": {
            "text/plain": [
              "array([[0, 1, 0, 0],\n",
              "       [0, 0, 1, 0],\n",
              "       [0, 0, 0, 1],\n",
              "       [0, 0, 0, 0]])"
            ]
          },
          "metadata": {},
          "execution_count": 6
        }
      ],
      "source": [
        "np.eye(4, k=1, dtype=int)"
      ]
    },
    {
      "cell_type": "markdown",
      "metadata": {
        "id": "_J54zCkLhv7p"
      },
      "source": [
        "8) Создать матрицу с числами в диапазоне от 1 до 4 по диагонали. В других ячейках матрицы должны быть семерки.**"
      ]
    },
    {
      "cell_type": "code",
      "execution_count": null,
      "metadata": {
        "colab": {
          "base_uri": "https://localhost:8080/"
        },
        "id": "gL9AUSeUhv7p",
        "outputId": "9c8a0580-4929-4de6-8b42-66989ce05e59"
      },
      "outputs": [
        {
          "output_type": "execute_result",
          "data": {
            "text/plain": [
              "array([[1, 7, 7, 7],\n",
              "       [7, 2, 7, 7],\n",
              "       [7, 7, 3, 7],\n",
              "       [7, 7, 7, 4]])"
            ]
          },
          "metadata": {},
          "execution_count": 51
        }
      ],
      "source": [
        "7 - np.identity(4, dtype=int) * 7 + np.diag([i for i in range(1, 5)])"
      ]
    },
    {
      "cell_type": "markdown",
      "metadata": {
        "id": "sVV9j1YKhv7p"
      },
      "source": [
        "9) Создать матрицу размера 5 на 5 заполненную чилами от 0 до 4 в строках."
      ]
    },
    {
      "cell_type": "code",
      "execution_count": null,
      "metadata": {
        "id": "tI_zpgrEhv7p",
        "colab": {
          "base_uri": "https://localhost:8080/"
        },
        "outputId": "aa5f190f-09b3-4273-83bc-182f5a35d2a6"
      },
      "outputs": [
        {
          "output_type": "execute_result",
          "data": {
            "text/plain": [
              "array([[0, 1, 2, 3, 4],\n",
              "       [0, 1, 2, 3, 4],\n",
              "       [0, 1, 2, 3, 4],\n",
              "       [0, 1, 2, 3, 4],\n",
              "       [0, 1, 2, 3, 4]])"
            ]
          },
          "metadata": {},
          "execution_count": 79
        }
      ],
      "source": [
        "arr = np.zeros((5, 5), dtype=int)\n",
        "arr + np.arange(5)"
      ]
    },
    {
      "cell_type": "markdown",
      "metadata": {
        "id": "ck7X69sChv7q"
      },
      "source": [
        "10) Создать матрицу случайных чисел размера 10 на 10 и отнять среднее по строкам из каждого элемента строки"
      ]
    },
    {
      "cell_type": "code",
      "execution_count": null,
      "metadata": {
        "id": "CWNgf-Fohv7q",
        "colab": {
          "base_uri": "https://localhost:8080/"
        },
        "outputId": "2d0eddd5-fe72-480b-ec3f-34e56bcbce45"
      },
      "outputs": [
        {
          "output_type": "execute_result",
          "data": {
            "text/plain": [
              "array([[ 0.38778663, -1.03048909, -1.7740116 , -1.2989838 ,  0.19117345,\n",
              "         2.52920888,  0.53188873, -0.14766302,  1.58866984, -0.97758002],\n",
              "       [-0.03351569, -1.05552214, -0.09226601,  1.64313967,  1.16803409,\n",
              "         1.21412088,  1.31288462, -1.05162228, -1.55814572, -1.5471074 ],\n",
              "       [-1.84937554,  0.70675625,  3.03626636,  0.4703215 , -0.39623637,\n",
              "        -0.06421483,  0.7747335 , -1.48847228, -2.42809866,  1.23832006],\n",
              "       [ 0.29237928,  0.23489536,  0.38355158,  0.03071217, -0.94180273,\n",
              "        -0.70383471,  1.12081965, -0.60194889, -0.16507872,  0.35030699],\n",
              "       [ 0.01110887,  0.89120762, -0.27805787, -1.72185338, -0.77915099,\n",
              "         1.10378715, -0.50797146, -0.1147892 ,  0.18571761,  1.21000167],\n",
              "       [ 0.27082795,  0.41534233, -0.28551461, -0.4194248 , -0.51059306,\n",
              "         1.27786217, -0.27458666, -0.13192063, -0.01851321, -0.32347947],\n",
              "       [-0.58957523,  0.8416861 ,  0.70321308,  1.08982324,  0.71707787,\n",
              "        -1.99952969,  0.53715339, -1.49463952,  0.21644494, -0.02165418],\n",
              "       [ 2.13843673,  0.2607102 , -1.63280332,  0.90976342, -1.68485197,\n",
              "        -0.459404  , -0.12546547, -0.20443292,  0.57398973,  0.2240576 ],\n",
              "       [-0.1212773 , -1.34106259, -0.4735923 ,  0.95357388, -1.23072533,\n",
              "         0.93546429,  1.55935876,  0.79373713, -0.59410349, -0.48137305],\n",
              "       [ 0.69365789,  1.12610144,  0.25144099,  0.15239394,  0.01170454,\n",
              "        -1.47920279, -1.4795257 , -0.83746954,  1.4388237 ,  0.12207553]])"
            ]
          },
          "metadata": {},
          "execution_count": 82
        }
      ],
      "source": [
        "arr = np.random.randn(10, 10)\n",
        "arr - np.mean(arr, axis=1, keepdims=True)"
      ]
    },
    {
      "cell_type": "markdown",
      "metadata": {
        "id": "8nmVDKVdhv7q"
      },
      "source": [
        "11) Создать матрицу случайных чисел размера 10 на 10 и отнять медиану по столбцам из каждого элемента столбца  "
      ]
    },
    {
      "cell_type": "code",
      "execution_count": null,
      "metadata": {
        "id": "MTmiQB8chv7q",
        "colab": {
          "base_uri": "https://localhost:8080/"
        },
        "outputId": "0b989082-ed2f-4211-d0e2-e0abd4c010ef"
      },
      "outputs": [
        {
          "output_type": "execute_result",
          "data": {
            "text/plain": [
              "array([[ 0.82999016,  1.11550942, -0.16263394,  0.71358708, -0.0230741 ,\n",
              "        -1.3342715 ,  2.53526124,  2.49412185, -0.02153904,  0.15733634],\n",
              "       [-0.10597156, -0.21473585,  1.55340519,  1.01443294,  0.68537991,\n",
              "         0.40370478,  0.78121996,  0.65709072,  0.02153904,  0.11574545],\n",
              "       [ 0.10597156,  1.41685139,  0.16263394,  0.53843628, -3.40881644,\n",
              "        -0.44230291, -0.7820049 ,  1.91491536,  1.75593711, -0.02065323],\n",
              "       [-0.7164957 ,  0.64696171,  1.36591835,  1.08989001,  0.0230741 ,\n",
              "        -0.54782145, -0.02939302, -2.06011164,  1.68613308, -0.57323085],\n",
              "       [ 0.80878021, -0.41191188, -1.29804276, -0.57885904, -0.2883592 ,\n",
              "         0.92835883, -1.09517117,  1.02645032, -0.05901061, -0.02905933],\n",
              "       [-0.19266794, -0.06495047, -0.86685433,  0.25741061, -0.34144962,\n",
              "        -0.10932879,  1.05352358, -0.1890046 , -0.87468985,  0.70542863],\n",
              "       [ 0.49471367,  1.0888733 , -0.38435738, -0.83587836,  1.44916339,\n",
              "         0.85593939,  0.02939302, -0.61075431, -0.49844995,  0.02065323],\n",
              "       [ 0.24747098,  0.06495047,  0.74338218, -1.0182833 ,  0.95216688,\n",
              "         1.12384242, -0.94722185, -0.09687218,  0.53832183, -0.09664984],\n",
              "       [-0.43425607, -0.32808518,  1.34342004, -0.84068166, -0.95744962,\n",
              "         0.10932879,  3.10977531, -0.49063344, -0.97391217,  0.20479944],\n",
              "       [-1.47979835, -0.93680083, -0.30603252, -0.25741061,  0.74545115,\n",
              "        -0.65550604, -0.39092252,  0.09687218,  0.68480298, -0.26868844]])"
            ]
          },
          "metadata": {},
          "execution_count": 14
        }
      ],
      "source": [
        "arr = np.random.randn(10, 10)\n",
        "arr - np.median(arr, axis=0)"
      ]
    },
    {
      "cell_type": "markdown",
      "metadata": {
        "id": "uVblJvCyhv7q"
      },
      "source": [
        "12) Создать матрицу случайных чисел 5x5. Добавить к ней столбецы максимумов и минимумов по строкам. Получится матрица 5x7.  "
      ]
    },
    {
      "cell_type": "code",
      "execution_count": null,
      "metadata": {
        "id": "zVG0tN6mhv7q",
        "colab": {
          "base_uri": "https://localhost:8080/"
        },
        "outputId": "97009882-655e-4538-b7bb-8a2b4573826e"
      },
      "outputs": [
        {
          "output_type": "execute_result",
          "data": {
            "text/plain": [
              "array([[-0.22021234,  0.08278294,  0.05163401, -0.76628225, -0.62918321,\n",
              "         0.08278294, -0.76628225],\n",
              "       [ 0.98725299, -0.54980346, -0.21920924,  0.20953029, -0.00837095,\n",
              "         0.98725299, -0.54980346],\n",
              "       [ 0.81614486,  0.54262786,  2.8258056 , -1.10152001,  0.25418804,\n",
              "         2.8258056 , -1.10152001],\n",
              "       [ 1.38489403,  0.59264897, -2.54165157,  0.80160271, -0.77280473,\n",
              "         1.38489403, -2.54165157],\n",
              "       [ 0.31798273, -1.30363315,  1.35029015, -0.45934025, -0.01421905,\n",
              "         1.35029015, -1.30363315]])"
            ]
          },
          "metadata": {},
          "execution_count": 15
        }
      ],
      "source": [
        "arr = np.random.randn(5, 5)\n",
        "np.concatenate((arr, np.max(arr, axis=1, keepdims=True), np.min(arr, axis=1, keepdims=True)), axis=1)"
      ]
    },
    {
      "cell_type": "markdown",
      "metadata": {
        "id": "oXIgIdWMhv7q"
      },
      "source": [
        "13) Вектор чисел от 1 до 51 преобразовать в вектор нечетных чисел и в вектор четных чисел, поменять их размерности, чтобы получились две матрица. Найти произведение этих матриц. Найти обратную матрицу эётого произведения.  "
      ]
    },
    {
      "cell_type": "code",
      "execution_count": null,
      "metadata": {
        "id": "ZEM4yZ_Lhv7q",
        "colab": {
          "base_uri": "https://localhost:8080/",
          "height": 355
        },
        "outputId": "313d5597-7e56-445c-925e-3caa2594a826"
      },
      "outputs": [
        {
          "output_type": "error",
          "ename": "LinAlgError",
          "evalue": "ignored",
          "traceback": [
            "\u001b[0;31m---------------------------------------------------------------------------\u001b[0m",
            "\u001b[0;31mLinAlgError\u001b[0m                               Traceback (most recent call last)",
            "\u001b[0;32m<ipython-input-7-246a63e296a7>\u001b[0m in \u001b[0;36m<cell line: 4>\u001b[0;34m()\u001b[0m\n\u001b[1;32m      2\u001b[0m \u001b[0modd\u001b[0m \u001b[0;34m=\u001b[0m \u001b[0marr\u001b[0m\u001b[0;34m[\u001b[0m\u001b[0;34m:\u001b[0m\u001b[0;34m:\u001b[0m\u001b[0;36m2\u001b[0m\u001b[0;34m]\u001b[0m\u001b[0;34m.\u001b[0m\u001b[0mreshape\u001b[0m\u001b[0;34m(\u001b[0m\u001b[0;36m5\u001b[0m\u001b[0;34m,\u001b[0m \u001b[0;36m5\u001b[0m\u001b[0;34m)\u001b[0m\u001b[0;34m\u001b[0m\u001b[0;34m\u001b[0m\u001b[0m\n\u001b[1;32m      3\u001b[0m \u001b[0meven\u001b[0m \u001b[0;34m=\u001b[0m \u001b[0marr\u001b[0m\u001b[0;34m[\u001b[0m\u001b[0;36m1\u001b[0m\u001b[0;34m:\u001b[0m\u001b[0;34m:\u001b[0m\u001b[0;36m2\u001b[0m\u001b[0;34m]\u001b[0m\u001b[0;34m.\u001b[0m\u001b[0mreshape\u001b[0m\u001b[0;34m(\u001b[0m\u001b[0;36m5\u001b[0m\u001b[0;34m,\u001b[0m \u001b[0;36m5\u001b[0m\u001b[0;34m)\u001b[0m\u001b[0;34m\u001b[0m\u001b[0;34m\u001b[0m\u001b[0m\n\u001b[0;32m----> 4\u001b[0;31m \u001b[0mnp\u001b[0m\u001b[0;34m.\u001b[0m\u001b[0mlinalg\u001b[0m\u001b[0;34m.\u001b[0m\u001b[0minv\u001b[0m\u001b[0;34m(\u001b[0m\u001b[0mnp\u001b[0m\u001b[0;34m.\u001b[0m\u001b[0mmatmul\u001b[0m\u001b[0;34m(\u001b[0m\u001b[0modd\u001b[0m\u001b[0;34m,\u001b[0m \u001b[0meven\u001b[0m\u001b[0;34m)\u001b[0m\u001b[0;34m)\u001b[0m\u001b[0;34m\u001b[0m\u001b[0;34m\u001b[0m\u001b[0m\n\u001b[0m",
            "\u001b[0;32m/usr/local/lib/python3.10/dist-packages/numpy/core/overrides.py\u001b[0m in \u001b[0;36minv\u001b[0;34m(*args, **kwargs)\u001b[0m\n",
            "\u001b[0;32m/usr/local/lib/python3.10/dist-packages/numpy/linalg/linalg.py\u001b[0m in \u001b[0;36minv\u001b[0;34m(a)\u001b[0m\n\u001b[1;32m    550\u001b[0m     \u001b[0msignature\u001b[0m \u001b[0;34m=\u001b[0m \u001b[0;34m'D->D'\u001b[0m \u001b[0;32mif\u001b[0m \u001b[0misComplexType\u001b[0m\u001b[0;34m(\u001b[0m\u001b[0mt\u001b[0m\u001b[0;34m)\u001b[0m \u001b[0;32melse\u001b[0m \u001b[0;34m'd->d'\u001b[0m\u001b[0;34m\u001b[0m\u001b[0;34m\u001b[0m\u001b[0m\n\u001b[1;32m    551\u001b[0m     \u001b[0mextobj\u001b[0m \u001b[0;34m=\u001b[0m \u001b[0mget_linalg_error_extobj\u001b[0m\u001b[0;34m(\u001b[0m\u001b[0m_raise_linalgerror_singular\u001b[0m\u001b[0;34m)\u001b[0m\u001b[0;34m\u001b[0m\u001b[0;34m\u001b[0m\u001b[0m\n\u001b[0;32m--> 552\u001b[0;31m     \u001b[0mainv\u001b[0m \u001b[0;34m=\u001b[0m \u001b[0m_umath_linalg\u001b[0m\u001b[0;34m.\u001b[0m\u001b[0minv\u001b[0m\u001b[0;34m(\u001b[0m\u001b[0ma\u001b[0m\u001b[0;34m,\u001b[0m \u001b[0msignature\u001b[0m\u001b[0;34m=\u001b[0m\u001b[0msignature\u001b[0m\u001b[0;34m,\u001b[0m \u001b[0mextobj\u001b[0m\u001b[0;34m=\u001b[0m\u001b[0mextobj\u001b[0m\u001b[0;34m)\u001b[0m\u001b[0;34m\u001b[0m\u001b[0;34m\u001b[0m\u001b[0m\n\u001b[0m\u001b[1;32m    553\u001b[0m     \u001b[0;32mreturn\u001b[0m \u001b[0mwrap\u001b[0m\u001b[0;34m(\u001b[0m\u001b[0mainv\u001b[0m\u001b[0;34m.\u001b[0m\u001b[0mastype\u001b[0m\u001b[0;34m(\u001b[0m\u001b[0mresult_t\u001b[0m\u001b[0;34m,\u001b[0m \u001b[0mcopy\u001b[0m\u001b[0;34m=\u001b[0m\u001b[0;32mFalse\u001b[0m\u001b[0;34m)\u001b[0m\u001b[0;34m)\u001b[0m\u001b[0;34m\u001b[0m\u001b[0;34m\u001b[0m\u001b[0m\n\u001b[1;32m    554\u001b[0m \u001b[0;34m\u001b[0m\u001b[0m\n",
            "\u001b[0;32m/usr/local/lib/python3.10/dist-packages/numpy/linalg/linalg.py\u001b[0m in \u001b[0;36m_raise_linalgerror_singular\u001b[0;34m(err, flag)\u001b[0m\n\u001b[1;32m     87\u001b[0m \u001b[0;34m\u001b[0m\u001b[0m\n\u001b[1;32m     88\u001b[0m \u001b[0;32mdef\u001b[0m \u001b[0m_raise_linalgerror_singular\u001b[0m\u001b[0;34m(\u001b[0m\u001b[0merr\u001b[0m\u001b[0;34m,\u001b[0m \u001b[0mflag\u001b[0m\u001b[0;34m)\u001b[0m\u001b[0;34m:\u001b[0m\u001b[0;34m\u001b[0m\u001b[0;34m\u001b[0m\u001b[0m\n\u001b[0;32m---> 89\u001b[0;31m     \u001b[0;32mraise\u001b[0m \u001b[0mLinAlgError\u001b[0m\u001b[0;34m(\u001b[0m\u001b[0;34m\"Singular matrix\"\u001b[0m\u001b[0;34m)\u001b[0m\u001b[0;34m\u001b[0m\u001b[0;34m\u001b[0m\u001b[0m\n\u001b[0m\u001b[1;32m     90\u001b[0m \u001b[0;34m\u001b[0m\u001b[0m\n\u001b[1;32m     91\u001b[0m \u001b[0;32mdef\u001b[0m \u001b[0m_raise_linalgerror_nonposdef\u001b[0m\u001b[0;34m(\u001b[0m\u001b[0merr\u001b[0m\u001b[0;34m,\u001b[0m \u001b[0mflag\u001b[0m\u001b[0;34m)\u001b[0m\u001b[0;34m:\u001b[0m\u001b[0;34m\u001b[0m\u001b[0;34m\u001b[0m\u001b[0m\n",
            "\u001b[0;31mLinAlgError\u001b[0m: Singular matrix"
          ]
        }
      ],
      "source": [
        "arr = np.arange(1, 51)\n",
        "odd = arr[::2].reshape(5, 5)\n",
        "even = arr[1::2].reshape(5, 5)\n",
        "np.linalg.inv(np.matmul(odd, even)) #det = 0"
      ]
    },
    {
      "cell_type": "markdown",
      "metadata": {
        "id": "GYeS_Sauhv7r"
      },
      "source": [
        "14) Создать 8x8 матрицу и заполнить её в шахматном порядке нулями и единицами."
      ]
    },
    {
      "cell_type": "code",
      "execution_count": null,
      "metadata": {
        "id": "0i-45zaqhv7r",
        "colab": {
          "base_uri": "https://localhost:8080/"
        },
        "outputId": "c23e76b7-a825-456b-99c5-b66ddacd098c"
      },
      "outputs": [
        {
          "output_type": "execute_result",
          "data": {
            "text/plain": [
              "array([[1, 0, 1, 0, 1, 0, 1, 0],\n",
              "       [0, 1, 0, 1, 0, 1, 0, 1],\n",
              "       [1, 0, 1, 0, 1, 0, 1, 0],\n",
              "       [0, 1, 0, 1, 0, 1, 0, 1],\n",
              "       [1, 0, 1, 0, 1, 0, 1, 0],\n",
              "       [0, 1, 0, 1, 0, 1, 0, 1],\n",
              "       [1, 0, 1, 0, 1, 0, 1, 0],\n",
              "       [0, 1, 0, 1, 0, 1, 0, 1]])"
            ]
          },
          "metadata": {},
          "execution_count": 78
        }
      ],
      "source": [
        "arr = np.zeros((8,8), dtype=int)\n",
        "arr[::2, ::2] = 1\n",
        "arr[1::2, 1::2] = 1\n",
        "arr"
      ]
    }
  ],
  "metadata": {
    "kernelspec": {
      "display_name": "Python 3",
      "language": "python",
      "name": "python3"
    },
    "language_info": {
      "codemirror_mode": {
        "name": "ipython",
        "version": 3
      },
      "file_extension": ".py",
      "mimetype": "text/x-python",
      "name": "python",
      "nbconvert_exporter": "python",
      "pygments_lexer": "ipython3",
      "version": "3.8.0"
    },
    "colab": {
      "provenance": [],
      "include_colab_link": true
    }
  },
  "nbformat": 4,
  "nbformat_minor": 0
}